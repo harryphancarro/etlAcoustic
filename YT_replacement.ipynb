{
 "cells": [
  {
   "cell_type": "code",
   "execution_count": 3,
   "id": "65a2229d",
   "metadata": {},
   "outputs": [],
   "source": [
    "#!pip install youtube_dl"
   ]
  },
  {
   "cell_type": "code",
   "execution_count": 4,
   "id": "1f284f1e",
   "metadata": {},
   "outputs": [],
   "source": [
    "from youtube_dl import YoutubeDL\n",
    "import csv"
   ]
  },
  {
   "cell_type": "code",
   "execution_count": 5,
   "id": "e527b00f",
   "metadata": {},
   "outputs": [],
   "source": [
    "#write to text file, title + description\n",
    "header = ['Title ID', 'Title', 'Description']\n",
    "\n",
    "with open('csv_name.csv', 'w', encoding='UTF8', newline='') as f:\n",
    "    writer = csv.writer(f)\n",
    "    writer.writerow(header)\n",
    "\n",
    "from csv import writer\n",
    "\n",
    "def append_list_as_row(file_name, list_of_elem):\n",
    "    with open(file_name, 'a+', encoding='UTF8', newline = '') as write_obj:\n",
    "        csv_writer = writer(write_obj)\n",
    "        csv_writer.writerow(list_of_elem)"
   ]
  },
  {
   "cell_type": "code",
   "execution_count": null,
   "id": "d7cd5bb8",
   "metadata": {
    "scrolled": false
   },
   "outputs": [],
   "source": [
    "#\n",
    "import os\n",
    "\n",
    "while True:\n",
    "    # url input from user\n",
    "    id_ = input(\"Title ID: \")\n",
    "    videoid = ('https://www.youtube.com/watch?v={}'.format(id_))\n",
    "\n",
    "    # audio download\n",
    "    youtube_dl_opts = {\n",
    "        'format' : 'bestaudio',\n",
    "        'postprocessors': [{\n",
    "            'key' : 'FFmpegExtractAudio',\n",
    "            'preferredcodec' : 'wav',\n",
    "            'preferredquality': '192',\n",
    "        }]\n",
    "    }\n",
    "\n",
    "    with YoutubeDL(youtube_dl_opts) as ydl:\n",
    "        info_dict = ydl.extract_info(videoid)\n",
    "        video_title = info_dict.get(\"title\", None)\n",
    "        video_desc = info_dict.get(\"description\", None)\n",
    "\n",
    "    # save title and description to csv\n",
    "    data = [id_, video_title, video_desc]\n",
    "    append_list_as_row('csv_name.csv', data)\n",
    "\n",
    "    # result of success\n",
    "    print(video_title + \" has been successfully downloaded.\")"
   ]
  },
  {
   "cell_type": "code",
   "execution_count": null,
   "id": "a52a82b0",
   "metadata": {},
   "outputs": [],
   "source": []
  }
 ],
 "metadata": {
  "kernelspec": {
   "display_name": "Python 3 (ipykernel)",
   "language": "python",
   "name": "python3"
  },
  "language_info": {
   "codemirror_mode": {
    "name": "ipython",
    "version": 3
   },
   "file_extension": ".py",
   "mimetype": "text/x-python",
   "name": "python",
   "nbconvert_exporter": "python",
   "pygments_lexer": "ipython3",
   "version": "3.9.7"
  }
 },
 "nbformat": 4,
 "nbformat_minor": 5
}
